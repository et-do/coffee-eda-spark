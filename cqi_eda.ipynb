{
  "nbformat": 4,
  "nbformat_minor": 0,
  "metadata": {
    "colab": {
      "name": "cqi-eda.ipynb",
      "provenance": [],
      "collapsed_sections": [],
      "authorship_tag": "ABX9TyMPvT0sw9OLUzCp7qgNcd75",
      "include_colab_link": true
    },
    "kernelspec": {
      "name": "python3",
      "display_name": "Python 3"
    },
    "language_info": {
      "name": "python"
    }
  },
  "cells": [
    {
      "cell_type": "markdown",
      "metadata": {
        "id": "view-in-github",
        "colab_type": "text"
      },
      "source": [
        "<a href=\"https://colab.research.google.com/github/et-do/coffee-eda-spark/blob/main/cqi_eda.ipynb\" target=\"_parent\"><img src=\"https://colab.research.google.com/assets/colab-badge.svg\" alt=\"Open In Colab\"/></a>"
      ]
    },
    {
      "cell_type": "code",
      "source": [
        "import pyspark\n",
        "from pyspark.sql import SparkSession\n",
        "from pyspark.sql.types import *\n",
        "import pyspark.sql.functions as F\n",
        "import pandas as pd\n",
        "import numpy as np"
      ],
      "metadata": {
        "id": "hUVyRxz23Ujz"
      },
      "execution_count": null,
      "outputs": []
    },
    {
      "cell_type": "code",
      "source": [
        "spark = SparkSession.builder\\\n",
        "  .master(\"local[5]\")\\\n",
        "  .appName(\"learn-pyspark-1\")\\\n",
        "  .getOrCreate()"
      ],
      "metadata": {
        "id": "cF0Yc5BR3q7f"
      },
      "execution_count": null,
      "outputs": []
    },
    {
      "cell_type": "code",
      "source": [
        "# read data\n",
        "csv_file = 'coffee_data.csv'\n",
        "\n",
        "df = spark.read.csv(csv_file, header=True, sep=',', inferSchema=True)\n",
        "\n",
        "df.describe().show()"
      ],
      "metadata": {
        "colab": {
          "base_uri": "https://localhost:8080/"
        },
        "id": "OpXn4aKL36bd",
        "outputId": "89ffbbbd-f513-4c1b-fa87-4d4f17cbc753"
      },
      "execution_count": null,
      "outputs": [
        {
          "output_type": "stream",
          "name": "stdout",
          "text": [
            "+-------+--------------------+------------------+-----------------------+--------------------+------------------------+------------------+-----------------+--------------------+-------+------------------+--------------------+---------------------------+-----------------+------------------+--------------------+------------------+-------------------+-----------------------+--------------+-----------------+-------------------+-------------------+-------------------+-------------------+------------------+-------------------+------------------+------------------+------------------+-----------------+------------------+-------------------+--------------------+-------------------+----------+--------------------+-------------------+--------------------+---------------------+---------------------+-------------------+-------------------+--------------------+--------------------+\n",
            "|summary|                 _c0|           Species|                  Owner|   Country.of.Origin|               Farm.Name|        Lot.Number|             Mill|          ICO.Number|Company|          Altitude|              Region|                   Producer|   Number.of.Bags|        Bag.Weight|  In.Country.Partner|      Harvest.Year|       Grading.Date|                Owner.1|       Variety|Processing.Method|              Aroma|             Flavor|         Aftertaste|            Acidity|              Body|            Balance|        Uniformity|         Clean.Cup|         Sweetness|    Cupper.Points|  Total.Cup.Points|           Moisture|Category.One.Defects|            Quakers|     Color|Category.Two.Defects|         Expiration|  Certification.Body|Certification.Address|Certification.Contact|unit_of_measurement|altitude_low_meters|altitude_high_meters|altitude_mean_meters|\n",
            "+-------+--------------------+------------------+-----------------------+--------------------+------------------------+------------------+-----------------+--------------------+-------+------------------+--------------------+---------------------------+-----------------+------------------+--------------------+------------------+-------------------+-----------------------+--------------+-----------------+-------------------+-------------------+-------------------+-------------------+------------------+-------------------+------------------+------------------+------------------+-----------------+------------------+-------------------+--------------------+-------------------+----------+--------------------+-------------------+--------------------+---------------------+---------------------+-------------------+-------------------+--------------------+--------------------+\n",
            "|  count|                1346|              1343|                   1334|                1339|                     981|               277|             1022|                1183|   1131|              1113|                1280|                       1107|             1339|              1339|                1339|              1291|               1338|                   1330|          1110|             1166|               1336|               1336|               1336|               1336|              1336|               1336|              1336|              1336|              1336|             1336|              1336|               1336|                1336|               1335|      1118|                1336|               1336|                1336|                 1336|                 1336|               1336|               1106|                1106|                1106|\n",
            "|   mean|               669.0|            2015.5|                   null|                null|                     1.0| 10447.70126984127|            450.5|1.879433533283045E10|  900.0|1846.9941474654381|                null|                        1.0|154.1829723674384| 4.555555555555555|                null|2013.6312056737588|               null|                   null|          null|             null|  7.567103293413175|  7.520726047904189| 7.4009805389221555|  7.536100299401198| 7.517597305389223|  7.517994011976048| 9.835007485029937| 9.835239520958082| 9.857372754491015|7.503697604790417| 82.09211077844301|0.08833083832335321|  0.4805389221556886|0.17378277153558053|      null|    3.56437125748503|               null|                null|                 null|                 null|               null|  1753.111271609401|  1801.8776513562364|  1777.4944614828182|\n",
            "| stddev|  386.68031585104853|3.5355339059327378|                   null|                null|                     NaN|43130.650128748974|635.6889962867062|3.117594189047146...|    NaN|7454.8917958421835|                null|                        NaN| 129.987162099724|2.2758486723609677|                null|  1.66080703281621|               null|                   null|          null|             null|0.37785863213215504|0.39878335170634904|0.40479228084563984|0.38012966697597694|0.3703428792382423|0.40924743570916705|0.5550046056597038|0.7646521930228158|0.6164439997033266|0.473790938134039|3.5041088399550255|0.04833077174765215|   2.552445256611205| 0.8330155102593484|      null|   5.315827830356222|               null|                null|                 null|                 null|               null|   8681.07189642908|   8680.422397690048|   8680.249479934026|\n",
            "|    min|\",\"CQI Taiwan ICP...|              2013|   Blossom Valley In...|              Brazil|    \"san marcos barra...|           0063/17|           (self)|                   -|  900.0|                -1|52 narino (exact ...|                          -|                0|              0 kg|             AMECAFE|        08/09 crop|   April 10th, 2014|   ADRIANA TORRES RI...|        Arusha|    Natural / Dry|                0.0|                0.0|                0.0|                0.0|               0.0|                0.0|               0.0|               0.0|               0.0|              0.0|               0.0|                0.0|                   0|                0.0|Blue-Green|                   0|   April 10th, 2015|             AMECAFE| 047484d5700c44f03...| 03077a1c6bac60e6f...|                 ft|                1.0|                 1.0|                 1.0|\n",
            "|    max|                 999|           Robusta|松澤宏樹 koju matsuzawa|d3ed2a8c1db69c87d...|馨晴咖啡 good mood co...|         sran-ijen|     黑咖啡道咖啡|                   x| 王秋金|             ~350m|            苗栗泰安|黑咖啡道王憲備0912326001...|             1062|           9000 kg|Yunnan Coffee Exc...|               mmm|September 9th, 2016|松澤宏樹 Koju Matsuzawa|Yellow Bourbon|     Washed / Wet|               8.75|               8.83|               8.67|               8.75|              8.58|               8.75|              10.0|              10.0|              10.0|             10.0|             90.58|               0.28|                  63|               11.0|      None|                  55|September 9th, 2017|Yunnan Coffee Exc...| ff7c18ad303d4b603...| f79a8d4dee92a80ff...|                  m|           190164.0|            190164.0|            190164.0|\n",
            "+-------+--------------------+------------------+-----------------------+--------------------+------------------------+------------------+-----------------+--------------------+-------+------------------+--------------------+---------------------------+-----------------+------------------+--------------------+------------------+-------------------+-----------------------+--------------+-----------------+-------------------+-------------------+-------------------+-------------------+------------------+-------------------+------------------+------------------+------------------+-----------------+------------------+-------------------+--------------------+-------------------+----------+--------------------+-------------------+--------------------+---------------------+---------------------+-------------------+-------------------+--------------------+--------------------+\n",
            "\n"
          ]
        }
      ]
    },
    {
      "cell_type": "code",
      "source": [
        "df.printSchema()"
      ],
      "metadata": {
        "colab": {
          "base_uri": "https://localhost:8080/"
        },
        "id": "9pTpBloYBMHk",
        "outputId": "ea42ba3a-6ce2-4ae5-c4f6-907ed4529b27"
      },
      "execution_count": null,
      "outputs": [
        {
          "output_type": "stream",
          "name": "stdout",
          "text": [
            "root\n",
            " |-- _c0: string (nullable = true)\n",
            " |-- Species: string (nullable = true)\n",
            " |-- Owner: string (nullable = true)\n",
            " |-- Country.of.Origin: string (nullable = true)\n",
            " |-- Farm.Name: string (nullable = true)\n",
            " |-- Lot.Number: string (nullable = true)\n",
            " |-- Mill: string (nullable = true)\n",
            " |-- ICO.Number: string (nullable = true)\n",
            " |-- Company: string (nullable = true)\n",
            " |-- Altitude: string (nullable = true)\n",
            " |-- Region: string (nullable = true)\n",
            " |-- Producer: string (nullable = true)\n",
            " |-- Number.of.Bags: integer (nullable = true)\n",
            " |-- Bag.Weight: string (nullable = true)\n",
            " |-- In.Country.Partner: string (nullable = true)\n",
            " |-- Harvest.Year: string (nullable = true)\n",
            " |-- Grading.Date: string (nullable = true)\n",
            " |-- Owner.1: string (nullable = true)\n",
            " |-- Variety: string (nullable = true)\n",
            " |-- Processing.Method: string (nullable = true)\n",
            " |-- Aroma: double (nullable = true)\n",
            " |-- Flavor: double (nullable = true)\n",
            " |-- Aftertaste: double (nullable = true)\n",
            " |-- Acidity: double (nullable = true)\n",
            " |-- Body: double (nullable = true)\n",
            " |-- Balance: double (nullable = true)\n",
            " |-- Uniformity: double (nullable = true)\n",
            " |-- Clean.Cup: double (nullable = true)\n",
            " |-- Sweetness: double (nullable = true)\n",
            " |-- Cupper.Points: double (nullable = true)\n",
            " |-- Total.Cup.Points: double (nullable = true)\n",
            " |-- Moisture: double (nullable = true)\n",
            " |-- Category.One.Defects: integer (nullable = true)\n",
            " |-- Quakers: double (nullable = true)\n",
            " |-- Color: string (nullable = true)\n",
            " |-- Category.Two.Defects: integer (nullable = true)\n",
            " |-- Expiration: string (nullable = true)\n",
            " |-- Certification.Body: string (nullable = true)\n",
            " |-- Certification.Address: string (nullable = true)\n",
            " |-- Certification.Contact: string (nullable = true)\n",
            " |-- unit_of_measurement: string (nullable = true)\n",
            " |-- altitude_low_meters: double (nullable = true)\n",
            " |-- altitude_high_meters: double (nullable = true)\n",
            " |-- altitude_mean_meters: double (nullable = true)\n",
            "\n"
          ]
        }
      ]
    },
    {
      "cell_type": "code",
      "source": [
        "# Let's remove the \".\" from headers\n",
        "# Anyone know how to loop through headers, this seems tedious\n",
        "# presumeably something like:\n",
        "#for col in df.columns:\n",
        "#  df = df.withColumnRenamed(\n",
        "#    col,\n",
        "#    col without dot\n",
        "#  )\n",
        "\n",
        "df = df.withColumnRenamed(\"Country.of.Origin\",\"origin_country\") \\\n",
        "    .withColumnRenamed(\"Farm.Name\",\"farm\") \\\n",
        "    .withColumnRenamed(\"Lot.Number\",\"lot\") \\\n",
        "    .withColumnRenamed(\"ICO.Number\",\"ico\") \\\n",
        "    .withColumnRenamed(\"Number.of.Bags\",\"bags\") \\\n",
        "    .withColumnRenamed(\"Bag.Weight\",\"bag_weight\") \\\n",
        "    .withColumnRenamed(\"In.Country.Partner\",\"country_partner\") \\\n",
        "    .withColumnRenamed(\"Harvest.Year\",\"harvest_year\") \\\n",
        "    .withColumnRenamed(\"Grading.Date\",\"grading_date\") \\\n",
        "    .withColumnRenamed(\"Owner.1\",\"owner_2\") \\\n",
        "    .withColumnRenamed(\"Processing.Method\",\"process_method\")\\\n",
        "    .withColumnRenamed(\"Clean.Cup\",\"clean_cup\") \\\n",
        "    .withColumnRenamed(\"Cupper.Points\",\"cupper_points\") \\\n",
        "    .withColumnRenamed(\"Total.Cup.Points\",\"total_cup_points\") \\\n",
        "    .withColumnRenamed(\"Category.One.Defects\",\"cat1_defect\") \\\n",
        "    .withColumnRenamed(\"Category.Two.Defects\",\"cat2_defect\") \\\n",
        "    .withColumnRenamed(\"Certification.Body\",\"cert_body\") \\\n",
        "    .withColumnRenamed(\"Certification.Address\",\"cert_address\") \\\n",
        "    .withColumnRenamed(\"Certification.Contact\",\"cert_contact\")\n",
        "\n",
        "\n",
        "\n",
        "df.printSchema()\n",
        "print(\"that was horrid\")"
      ],
      "metadata": {
        "colab": {
          "base_uri": "https://localhost:8080/"
        },
        "id": "NyY6xmsuBgL4",
        "outputId": "525cd241-ea3a-4b5a-8743-7c8bd0b899c0"
      },
      "execution_count": null,
      "outputs": [
        {
          "output_type": "stream",
          "name": "stdout",
          "text": [
            "root\n",
            " |-- _c0: string (nullable = true)\n",
            " |-- Species: string (nullable = true)\n",
            " |-- Owner: string (nullable = true)\n",
            " |-- origin_country: string (nullable = true)\n",
            " |-- farm: string (nullable = true)\n",
            " |-- lot: string (nullable = true)\n",
            " |-- Mill: string (nullable = true)\n",
            " |-- ico: string (nullable = true)\n",
            " |-- Company: string (nullable = true)\n",
            " |-- Altitude: string (nullable = true)\n",
            " |-- Region: string (nullable = true)\n",
            " |-- Producer: string (nullable = true)\n",
            " |-- bags: integer (nullable = true)\n",
            " |-- bag_weight: string (nullable = true)\n",
            " |-- country_partner: string (nullable = true)\n",
            " |-- harvest_year: string (nullable = true)\n",
            " |-- grading_date: string (nullable = true)\n",
            " |-- owner_2: string (nullable = true)\n",
            " |-- Variety: string (nullable = true)\n",
            " |-- process_method: string (nullable = true)\n",
            " |-- Aroma: double (nullable = true)\n",
            " |-- Flavor: double (nullable = true)\n",
            " |-- Aftertaste: double (nullable = true)\n",
            " |-- Acidity: double (nullable = true)\n",
            " |-- Body: double (nullable = true)\n",
            " |-- Balance: double (nullable = true)\n",
            " |-- Uniformity: double (nullable = true)\n",
            " |-- clean_cup: double (nullable = true)\n",
            " |-- Sweetness: double (nullable = true)\n",
            " |-- cupper_points: double (nullable = true)\n",
            " |-- total_cup_points: double (nullable = true)\n",
            " |-- Moisture: double (nullable = true)\n",
            " |-- cat1_defect: integer (nullable = true)\n",
            " |-- Quakers: double (nullable = true)\n",
            " |-- Color: string (nullable = true)\n",
            " |-- cat2_defect: integer (nullable = true)\n",
            " |-- Expiration: string (nullable = true)\n",
            " |-- cert_body: string (nullable = true)\n",
            " |-- cert_address: string (nullable = true)\n",
            " |-- cert_contact: string (nullable = true)\n",
            " |-- unit_of_measurement: string (nullable = true)\n",
            " |-- altitude_low_meters: double (nullable = true)\n",
            " |-- altitude_high_meters: double (nullable = true)\n",
            " |-- altitude_mean_meters: double (nullable = true)\n",
            "\n",
            "that was horrid\n"
          ]
        }
      ]
    },
    {
      "cell_type": "code",
      "source": [
        "# Find Count of Null, None, NaN of All DataFrame Columns\n",
        "# Can't have any \".\"'s in dataframe for this to work\n",
        "from pyspark.sql.functions import col,isnan, when, count\n",
        "df.select([count(when(isnan(c) | col(c).isNull(), c)).alias(c) for c in df.columns]\n",
        "   ).show()"
      ],
      "metadata": {
        "colab": {
          "base_uri": "https://localhost:8080/"
        },
        "id": "lnd6IjsuFjJQ",
        "outputId": "74472383-807f-48bb-94c5-824c36c059ba"
      },
      "execution_count": null,
      "outputs": [
        {
          "output_type": "stream",
          "name": "stdout",
          "text": [
            "+---+-------+-----+--------------+----+----+----+---+-------+--------+------+--------+----+----------+---------------+------------+------------+-------+-------+--------------+-----+------+----------+-------+----+-------+----------+---------+---------+-------------+----------------+--------+-----------+-------+-----+-----------+----------+---------+------------+------------+-------------------+-------------------+--------------------+--------------------+\n",
            "|_c0|Species|Owner|origin_country|farm| lot|Mill|ico|Company|Altitude|Region|Producer|bags|bag_weight|country_partner|harvest_year|grading_date|owner_2|Variety|process_method|Aroma|Flavor|Aftertaste|Acidity|Body|Balance|Uniformity|clean_cup|Sweetness|cupper_points|total_cup_points|Moisture|cat1_defect|Quakers|Color|cat2_defect|Expiration|cert_body|cert_address|cert_contact|unit_of_measurement|altitude_low_meters|altitude_high_meters|altitude_mean_meters|\n",
            "+---+-------+-----+--------------+----+----+----+---+-------+--------+------+--------+----+----------+---------------+------------+------------+-------+-------+--------------+-----+------+----------+-------+----+-------+----------+---------+---------+-------------+----------------+--------+-----------+-------+-----+-----------+----------+---------+------------+------------+-------------------+-------------------+--------------------+--------------------+\n",
            "|  0|      3|   12|             7| 365|1069| 324|163|    215|     233|    66|     239|   7|         7|              7|          55|           8|     16|    236|           180|   10|    10|        10|     10|  10|     10|        10|       10|       10|           10|              10|      10|         10|     11|  228|         10|        10|       10|          10|          10|                 10|                240|                 240|                 240|\n",
            "+---+-------+-----+--------------+----+----+----+---+-------+--------+------+--------+----+----------+---------------+------------+------------+-------+-------+--------------+-----+------+----------+-------+----+-------+----------+---------+---------+-------------+----------------+--------+-----------+-------+-----+-----------+----------+---------+------------+------------+-------------------+-------------------+--------------------+--------------------+\n",
            "\n"
          ]
        }
      ]
    },
    {
      "cell_type": "code",
      "source": [
        "# update schema\n",
        "\n",
        "data_schema = [\n",
        "              StructField('_c0', IntegerType(), True),\n",
        "              StructField('Lot.Number', IntegerType(), True),\n",
        "              StructField('ICO.Number', IntegerType(), True),\n",
        "              StructField('Altitude', FloatType(), True),\n",
        "              StructField('Bag.Weight', FloatType(), True),\n",
        "              StructField('Harvest.Year', DateType(), True),\n",
        "              StructField('Grading.Date', DateType(), True),\n",
        "              ]\n",
        "\n",
        "final_struc = StructType(fields = data_schema)\n",
        "\n",
        "df = spark.read.csv(\n",
        "    csv_file, \n",
        "    header=True, \n",
        "    sep=',', \n",
        "    schema=final_struc)\n"
      ],
      "metadata": {
        "colab": {
          "base_uri": "https://localhost:8080/"
        },
        "id": "TClTR-sg4hst",
        "outputId": "11333790-2511-40e3-ddf1-16d456f92212"
      },
      "execution_count": null,
      "outputs": [
        {
          "output_type": "execute_result",
          "data": {
            "text/plain": [
              "DataFrame[summary: string, _c0: string, Lot.Number: string, ICO.Number: string, Altitude: string, Bag.Weight: string]"
            ]
          },
          "metadata": {},
          "execution_count": 41
        }
      ]
    },
    {
      "cell_type": "code",
      "source": [
        ""
      ],
      "metadata": {
        "id": "EZNKGe7C4qGu"
      },
      "execution_count": null,
      "outputs": []
    }
  ]
}